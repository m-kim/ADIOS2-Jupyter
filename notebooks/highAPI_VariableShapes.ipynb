{
 "cells": [
  {
   "cell_type": "markdown",
   "metadata": {},
   "source": [
    "# ADIOS2-Python-High-Level-API-noMPI: Write Variables"
   ]
  },
  {
   "cell_type": "markdown",
   "metadata": {},
   "source": [
    "## Writer: Generate different Variable Shapes"
   ]
  },
  {
   "cell_type": "code",
   "execution_count": null,
   "metadata": {},
   "outputs": [],
   "source": [
    "import numpy as np\n",
    "import adios2\n",
    "\n",
    "rank = 0\n",
    "size = 1\n",
    "\n",
    "# Initialize dimensions\n",
    "nx = 10\n",
    "nsteps = 3\n",
    "\n",
    "# Global array dimensions\n",
    "shape = [nx]\n",
    "start = [0]\n",
    "count = [nx]\n",
    "\n",
    "\n",
    "# open adios2 file\n",
    "fw = adios2.open(\"variable_shapes.bp\", \"w\")\n",
    "\n",
    "for step in range(0,3):\n",
    "    \n",
    "    #global variable that doesn't change\n",
    "    #save nsteps as a numpy array\n",
    "    if(step == 0):\n",
    "        fw.write(\"nsteps\", np.array(nsteps))\n",
    "        fw.write(\"size\", np.array(size))\n",
    "    \n",
    "    #global variable that changes over time\n",
    "    #save step as a string\n",
    "    fw.write(\"step\", str(step))\n",
    "    \n",
    "    # local values are independent quantities must be explicit\n",
    "    fw.write(\"rank\", np.array(rank), [adios2.LocalValueDim])\n",
    "    \n",
    "    # global array, there is a total shape, \n",
    "    # and a local \"window\" for each rank (start and count)\n",
    "    fw.write(\"GlobalArray\", np.arange(step, nx+step, dtype=np.float), shape, start, count, adios2.ConstantDims)\n",
    "    \n",
    "    # local array, no shape, no start offset\n",
    "    # only a local \"dimension\" for each rank (count)\n",
    "    fw.write(\"LocalArray\", np.arange(step, nx+step, dtype=np.int), [], [], count)\n",
    "    \n",
    "# always close if open if not in a with-as instruction\n",
    "fw.close()"
   ]
  },
  {
   "cell_type": "code",
   "execution_count": null,
   "metadata": {},
   "outputs": [],
   "source": [
    "!bpls variable_shapes.bp -lavd -n 10"
   ]
  }
 ],
 "metadata": {
  "kernelspec": {
   "display_name": "Python [conda env:nb-nompi]",
   "language": "python",
   "name": "conda-env-nb-nompi-py"
  },
  "language_info": {
   "codemirror_mode": {
    "name": "ipython",
    "version": 3
   },
   "file_extension": ".py",
   "mimetype": "text/x-python",
   "name": "python",
   "nbconvert_exporter": "python",
   "pygments_lexer": "ipython3",
   "version": "3.6.7"
  }
 },
 "nbformat": 4,
 "nbformat_minor": 2
}
