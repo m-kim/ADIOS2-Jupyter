{
 "cells": [
  {
   "cell_type": "markdown",
   "metadata": {},
   "source": [
    "# ADIOS2-Python-Low-Level-MPI: Write Read Global Values and Arrays"
   ]
  },
  {
   "cell_type": "markdown",
   "metadata": {},
   "source": [
    "## Writer: Generate Global Values and Arrays"
   ]
  },
  {
   "cell_type": "code",
   "execution_count": 1,
   "metadata": {},
   "outputs": [
    {
     "ename": "AttributeError",
     "evalue": "module 'adios2' has no attribute 'LocalValueDim'",
     "output_type": "error",
     "traceback": [
      "\u001b[0;31m---------------------------------------------------------------------------\u001b[0m",
      "\u001b[0;31mAttributeError\u001b[0m                            Traceback (most recent call last)",
      "\u001b[0;32m<ipython-input-1-2f73f27358b5>\u001b[0m in \u001b[0;36m<module>\u001b[0;34m\u001b[0m\n\u001b[1;32m     35\u001b[0m \u001b[0;34m\u001b[0m\u001b[0m\n\u001b[1;32m     36\u001b[0m     \u001b[0;31m# local values are independent quantities must be explicit\u001b[0m\u001b[0;34m\u001b[0m\u001b[0;34m\u001b[0m\u001b[0;34m\u001b[0m\u001b[0m\n\u001b[0;32m---> 37\u001b[0;31m     \u001b[0mfw\u001b[0m\u001b[0;34m.\u001b[0m\u001b[0mwrite\u001b[0m\u001b[0;34m(\u001b[0m\u001b[0;34m\"rank\"\u001b[0m\u001b[0;34m,\u001b[0m \u001b[0mnp\u001b[0m\u001b[0;34m.\u001b[0m\u001b[0marray\u001b[0m\u001b[0;34m(\u001b[0m\u001b[0mrank\u001b[0m\u001b[0;34m)\u001b[0m\u001b[0;34m,\u001b[0m \u001b[0;34m[\u001b[0m\u001b[0madios2\u001b[0m\u001b[0;34m.\u001b[0m\u001b[0mLocalValueDim\u001b[0m\u001b[0;34m]\u001b[0m\u001b[0;34m)\u001b[0m\u001b[0;34m\u001b[0m\u001b[0;34m\u001b[0m\u001b[0m\n\u001b[0m\u001b[1;32m     38\u001b[0m \u001b[0;34m\u001b[0m\u001b[0m\n\u001b[1;32m     39\u001b[0m     \u001b[0;31m# global array, there is a total shape,\u001b[0m\u001b[0;34m\u001b[0m\u001b[0;34m\u001b[0m\u001b[0;34m\u001b[0m\u001b[0m\n",
      "\u001b[0;31mAttributeError\u001b[0m: module 'adios2' has no attribute 'LocalValueDim'"
     ]
    }
   ],
   "source": [
    "from mpi4py import MPI\n",
    "import numpy as np\n",
    "import adios2\n",
    "\n",
    "\n",
    "# Initialize MPI\n",
    "comm = MPI.COMM_WORLD\n",
    "rank = comm.Get_rank()\n",
    "size = comm.Get_size()\n",
    "\n",
    "# Initialize dimensions\n",
    "nx = 10\n",
    "nsteps = 3\n",
    "\n",
    "# Global array dimensions scattered across MPI nprocs\n",
    "shape = [size * nx]\n",
    "start = [rank * nx]\n",
    "count = [   1 * nx]\n",
    "\n",
    "\n",
    "# open adios2 file\n",
    "fw = adios2.open(\"variable_shapes.bp\", \"w\", comm)\n",
    "\n",
    "for step in range(0,3):\n",
    "    \n",
    "    #global variable that doesn't change\n",
    "    #save nsteps as a numpy array\n",
    "    if(step == 0):\n",
    "        fw.write(\"nsteps\", np.array(nsteps))\n",
    "        fw.write(\"size\", np.array(size))\n",
    "    \n",
    "    #global variable that changes over time\n",
    "    #save step as a string\n",
    "    fw.write(\"step\", str(step))\n",
    "    \n",
    "    # local values are independent quantities must be explicit\n",
    "    fw.write(\"rank\", np.array(rank), [adios2.LocalValueDim])\n",
    "    \n",
    "    # global array, there is a total shape, \n",
    "    # and a local \"window\" for each rank (start and count)\n",
    "    fw.write(\"GlobalArray\", np.arange(step, nx, dtype=np.float), shape, start, count, adios2.ConstantDims)\n",
    "    \n",
    "    # local array, no shape, no start offset\n",
    "    # only a local \"dimension\" for each rank (count)\n",
    "    fw.write(\"LocalArray\", np.arrange(step, nx, dtype=np.int), [], [], count)\n",
    "    \n",
    "# always close if open if not in a with-as instruction\n",
    "fw.close()"
   ]
  },
  {
   "cell_type": "code",
   "execution_count": null,
   "metadata": {},
   "outputs": [],
   "source": [
    "!bpls variable_shapes.bp -lavd -n 10"
   ]
  }
 ],
 "metadata": {
  "kernelspec": {
   "display_name": "Python [conda env:nb-openmpi] *",
   "language": "python",
   "name": "conda-env-nb-openmpi-py"
  },
  "language_info": {
   "codemirror_mode": {
    "name": "ipython",
    "version": 3
   },
   "file_extension": ".py",
   "mimetype": "text/x-python",
   "name": "python",
   "nbconvert_exporter": "python",
   "pygments_lexer": "ipython3",
   "version": "3.7.1"
  }
 },
 "nbformat": 4,
 "nbformat_minor": 2
}
