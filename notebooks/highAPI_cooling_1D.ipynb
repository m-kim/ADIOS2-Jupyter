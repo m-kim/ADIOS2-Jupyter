{
 "cells": [
  {
   "cell_type": "markdown",
   "metadata": {},
   "source": [
    "\n",
    "# ADIOS2-Python-High-Level-nompi: Write Read Cooling Rod 1D\n",
    "\n"
   ]
  },
  {
   "cell_type": "markdown",
   "metadata": {},
   "source": [
    "## Writer: Generate Data\n",
    "    \n",
    "    We use a simple solution to the heat transfer equation in a (very-fast) 1D cooling rod.\n",
    "    "
   ]
  },
  {
   "cell_type": "code",
   "execution_count": null,
   "metadata": {},
   "outputs": [],
   "source": [
    "import math\n",
    "import numpy as np\n",
    "import adios2\n",
    "\n",
    "\n",
    "def calcUxt(Uo, x, t):\n",
    "    return 4 * Uo / math.pi * math.sin(math.pi * x) * math.exp(- math.pi * math.pi * t)\n",
    "\n",
    "# Initialize local variable dimensions\n",
    "nx = 10\n",
    "\n",
    "shape = [nx]\n",
    "start = [0]\n",
    "count = [nx]\n",
    "\n",
    "# Initialize problem x cell coord, Uo, Uxt\n",
    "steps = 5\n",
    "Lx = 1. \n",
    "Dx = 1./nx\n",
    "\n",
    "x = np.full( (nx), 0. )\n",
    "for i in range(0,nx):\n",
    "    x[i] = (i+0.5) * Dx\n",
    "\n",
    "# Make sure you use floats\n",
    "Uo = 1. \n",
    "Uxt = np.full( (nx), Uo)\n",
    "\n",
    "# Writer save U solution as function of location (x) and time (t)\n",
    "with adios2.open(\"Uxt.bp\", \"w\") as fw:\n",
    "\n",
    "    for t in range(0, steps):\n",
    "        # We save \"x\" only once at step \"0\"\n",
    "        if(t == 0):\n",
    "            fw.write(\"x\", x, shape, start, count)\n",
    "        else:\n",
    "            for i in range(0,nx):\n",
    "                Uxt[i] = calcUxt(Uo, x[i], t)\n",
    "                \n",
    "        fw.write(\"Uxt\", Uxt, shape, start, count)\n",
    "        fw.end_step()"
   ]
  },
  {
   "cell_type": "markdown",
   "metadata": {},
   "source": [
    "The data is saved in a bp file and subsfile directory structure. To access the data, the user doesn't need to manipulate these directly, but rather using the **bpls** command line utility for quick inspection. For example:"
   ]
  },
  {
   "cell_type": "code",
   "execution_count": null,
   "metadata": {},
   "outputs": [],
   "source": [
    "!bpls Uxt.bp -lavd -n 10"
   ]
  },
  {
   "cell_type": "markdown",
   "metadata": {},
   "source": [
    "## Reader: Accessing and Understanding the Data"
   ]
  },
  {
   "cell_type": "code",
   "execution_count": null,
   "metadata": {},
   "outputs": [],
   "source": [
    "import math\n",
    "import numpy as np\n",
    "import adios2\n",
    "import matplotlib.pyplot as plt\n",
    "\n",
    "\n",
    "Uxt_plots = plt.subplots()\n",
    "\n",
    "with adios2.open(\"Uxt.bp\", \"r\") as fr:\n",
    "\n",
    "    for fr_step in fr:\n",
    "\n",
    "        step = fr_step.current_step()\n",
    "        if(step == 0):\n",
    "            x = fr_step.read(\"x\")\n",
    "            \n",
    "        Uxt = fr_step.read(\"Uxt\")\n",
    "        \n",
    "        plt.semilogy(x, Uxt, label = \"Ux for time= \" + str(step))\n",
    "        \n",
    "legend = plt.legend(loc='best', shadow=True, fontsize='x-large')"
   ]
  },
  {
   "cell_type": "code",
   "execution_count": null,
   "metadata": {},
   "outputs": [],
   "source": []
  }
 ],
 "metadata": {
  "kernelspec": {
   "display_name": "Python [conda env:nb-nompi]",
   "language": "python",
   "name": "conda-env-nb-nompi-py"
  },
  "language_info": {
   "codemirror_mode": {
    "name": "ipython",
    "version": 3
   },
   "file_extension": ".py",
   "mimetype": "text/x-python",
   "name": "python",
   "nbconvert_exporter": "python",
   "pygments_lexer": "ipython3",
   "version": "3.6.7"
  }
 },
 "nbformat": 4,
 "nbformat_minor": 2
}
