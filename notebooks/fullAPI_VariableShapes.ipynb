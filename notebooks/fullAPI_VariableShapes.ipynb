{
 "cells": [
  {
   "cell_type": "markdown",
   "metadata": {},
   "source": [
    "# ADIOS2-Python-Full-API-NoMPI: Write Variable Shapes"
   ]
  },
  {
   "cell_type": "markdown",
   "metadata": {},
   "source": [
    "## Writer: Generate Variables with different shapes"
   ]
  },
  {
   "cell_type": "code",
   "execution_count": null,
   "metadata": {},
   "outputs": [],
   "source": [
    "import numpy as np\n",
    "import adios2\n",
    "\n",
    "\n",
    "# Initialize dimensions\n",
    "nx = 10\n",
    "nsteps = 3\n",
    "\n",
    "# Global array dimensions \n",
    "shape = [nx]\n",
    "start = [0]\n",
    "count = [nx]\n",
    "\n",
    "\n",
    "# initialize ADIOS2\n",
    "adios = adios2.ADIOS()\n",
    "io = adios.DeclareIO(\"VariableShapes\")\n",
    "\n",
    "# dummy np arrays to inform adios2 of the type\n",
    "# Global values\n",
    "var_nsteps = io.DefineVariable(\"nsteps\", np.array([0], dtype=np.uint32))\n",
    "var_size = io.DefineVariable(\"size\", np.array([0], dtype=np.uint64))\n",
    "var_step = io.DefineVariable(\"step\") # string type\n",
    "# Local values\n",
    "var_rank = io.DefineVariable(\"rank\", np.array([0], dtype=np.uint32), [adios2.LocalValueDim])\n",
    "# Global array\n",
    "# global array, there is a total shape, \n",
    "# and a local \"window\" for each rank (start and count)\n",
    "var_global_array = io.DefineVariable(\"GlobalArray\", np.array([0], dtype=np.float64), shape, start, count)\n",
    "# Local array\n",
    "# local array, no shape, no start offset\n",
    "# only a local \"dimension\" for each rank (count)\n",
    "var_local_array = io.DefineVariable(\"LocalArray\", np.array([0], dtype=np.float32), [], [], count)\n",
    "\n",
    "io.DefineAttribute(\"Greeting\", \"Hello ADIOS Variables\")\n",
    "\n",
    "fw = io.Open(\"variable_shapes.bp\", adios2.Mode.Write)\n",
    "\n",
    "for step in range(0,nsteps):\n",
    "    \n",
    "    fw.BeginStep()\n",
    "    \n",
    "    #global variable that doesn't change\n",
    "    #save nsteps as a numpy array\n",
    "    if(step == 0):\n",
    "        fw.Put(var_nsteps, np.array(nsteps, dtype=np.uint32) )\n",
    "        fw.Put(var_size, np.array(1, dtype=np.uint64))\n",
    "    \n",
    "    #global variable that changes over time\n",
    "    #save step as a string\n",
    "    fw.Put(var_step, str(step))\n",
    "    \n",
    "    # local values are independent quantities must be explicit\n",
    "    # we can search for a variable name inside IO\n",
    "    fw.Put(var_rank, np.array(0, dtype=np.uint32) )\n",
    "    fw.Put(var_global_array, np.arange(step, nx+step, dtype=np.float64))\n",
    "    fw.Put(var_local_array, np.arange(step, nx+step, dtype=np.float32))\n",
    "    \n",
    "    fw.EndStep()\n",
    "    \n",
    "\n",
    "# Close is always a good practice\n",
    "fw.Close()"
   ]
  },
  {
   "cell_type": "markdown",
   "metadata": {},
   "source": [
    "## Understand the output with bpls "
   ]
  },
  {
   "cell_type": "code",
   "execution_count": null,
   "metadata": {},
   "outputs": [],
   "source": [
    "!bpls variable_shapes.bp -lavd -n 10"
   ]
  }
 ],
 "metadata": {
  "kernelspec": {
   "display_name": "Python [conda env:nb-nompi]",
   "language": "python",
   "name": "conda-env-nb-nompi-py"
  },
  "language_info": {
   "codemirror_mode": {
    "name": "ipython",
    "version": 3
   },
   "file_extension": ".py",
   "mimetype": "text/x-python",
   "name": "python",
   "nbconvert_exporter": "python",
   "pygments_lexer": "ipython3",
   "version": "3.6.7"
  }
 },
 "nbformat": 4,
 "nbformat_minor": 2
}
